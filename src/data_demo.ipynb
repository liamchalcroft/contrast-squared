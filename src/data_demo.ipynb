{
 "cells": [
  {
   "cell_type": "code",
   "execution_count": 10,
   "metadata": {},
   "outputs": [],
   "source": [
    "# ! pip install monai nibabel matplotlib cornucopia\n",
    "# ! pip install git+https://github.com/balbasty/nitorch"
   ]
  },
  {
   "cell_type": "code",
   "execution_count": 8,
   "metadata": {},
   "outputs": [],
   "source": [
    "import matplotlib.pyplot as plt\n",
    "from preprocess_3d import get_bloch_loader, get_mprage_loader"
   ]
  },
  {
   "cell_type": "code",
   "execution_count": 9,
   "metadata": {},
   "outputs": [],
   "source": [
    "def show_3d_slices(img, title=\"\"):\n",
    "    \"\"\"Show orthogonal slices through 3D volume\"\"\"\n",
    "    fig, axes = plt.subplots(1, 3, figsize=(15, 5))\n",
    "    \n",
    "    # Middle slices\n",
    "    slices = [img.shape[0]//2, img.shape[1]//2, img.shape[2]//2]\n",
    "    \n",
    "    axes[0].imshow(img[slices[0]], cmap='gray')\n",
    "    axes[0].set_title(\"Axial\")\n",
    "    \n",
    "    axes[1].imshow(img[:, slices[1]], cmap='gray')\n",
    "    axes[1].set_title(\"Coronal\")\n",
    "    \n",
    "    axes[2].imshow(img[:, :, slices[2]], cmap='gray')\n",
    "    axes[2].set_title(\"Sagittal\")\n",
    "    \n",
    "    fig.suptitle(title)\n",
    "    plt.show()"
   ]
  },
  {
   "cell_type": "markdown",
   "metadata": {},
   "source": [
    "### Baseline MPRAGE"
   ]
  },
  {
   "cell_type": "code",
   "execution_count": null,
   "metadata": {},
   "outputs": [],
   "source": [
    "train_loader, _ = get_mprage_loader(\n",
    "    batch_size=1,\n",
    "    device=\"cpu\",\n",
    "    lowres=False,\n",
    "    same_contrast=True\n",
    ")\n",
    "sample = next(iter(train_loader))\n",
    "show_3d_slices(sample[\"image1\"][0,0].numpy(), \"View 1\")\n",
    "show_3d_slices(sample[\"image2\"][0,0].numpy(), \"View 2\")"
   ]
  },
  {
   "cell_type": "markdown",
   "metadata": {},
   "source": [
    "### qMRI with single sequence (**SeqAug**)"
   ]
  },
  {
   "cell_type": "code",
   "execution_count": null,
   "metadata": {},
   "outputs": [],
   "source": [
    "train_loader, _ = get_bloch_loader(\n",
    "    batch_size=1,\n",
    "    device=\"cpu\",\n",
    "    lowres=False,\n",
    "    same_contrast=True\n",
    ")\n",
    "sample = next(iter(train_loader))\n",
    "show_3d_slices(sample[\"image1\"][0,0].numpy(), \"View 1\")\n",
    "show_3d_slices(sample[\"image2\"][0,0].numpy(), \"View 2\")"
   ]
  },
  {
   "cell_type": "markdown",
   "metadata": {},
   "source": [
    "### qMRI with different sequences (**SeqInv**)"
   ]
  },
  {
   "cell_type": "code",
   "execution_count": null,
   "metadata": {},
   "outputs": [],
   "source": [
    "train_loader, _ = get_bloch_loader(\n",
    "    batch_size=1,\n",
    "    device=\"cpu\",\n",
    "    lowres=False,\n",
    "    same_contrast=False\n",
    ")\n",
    "sample = next(iter(train_loader))\n",
    "show_3d_slices(sample[\"image1\"][0,0].numpy(), \"View 1\")\n",
    "show_3d_slices(sample[\"image2\"][0,0].numpy(), \"View 2\")\n",
    "### qMRI with different sequences (**SeqInv**)\n",
    "train_loader, _ = get_bloch_loader(\n",
    "    batch_size=1,\n",
    "    device=\"cpu\",\n",
    "    lowres=False,"
   ]
  }
 ],
 "metadata": {
  "kernelspec": {
   "display_name": "atlas",
   "language": "python",
   "name": "python3"
  },
  "language_info": {
   "codemirror_mode": {
    "name": "ipython",
    "version": 3
   },
   "file_extension": ".py",
   "mimetype": "text/x-python",
   "name": "python",
   "nbconvert_exporter": "python",
   "pygments_lexer": "ipython3",
   "version": "3.10.4"
  }
 },
 "nbformat": 4,
 "nbformat_minor": 2
}
